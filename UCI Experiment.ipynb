{
 "cells": [
  {
   "cell_type": "markdown",
   "metadata": {},
   "source": [
    "## Sample Notebook for Running UCI Trials\n",
    "This notebook runs MPC-1 and MPC-2 results on the suite of UCI datasets"
   ]
  },
  {
   "cell_type": "code",
   "execution_count": null,
   "metadata": {},
   "outputs": [],
   "source": [
    "#Import main MPC Function\n",
    "from mpc import *\n",
    "import pandas as pd"
   ]
  },
  {
   "cell_type": "markdown",
   "metadata": {},
   "source": [
    "### Run MPC"
   ]
  },
  {
   "cell_type": "code",
   "execution_count": null,
   "metadata": {
    "scrolled": true
   },
   "outputs": [],
   "source": [
    "results = []\n",
    "for dataset in ['iris','wine','seeds','libras','zoo','bank','framingham','spam']:\n",
    "    data = pd.read_csv('uci_clean/%s.csv'%(dataset))\n",
    "    for k in range(2,11):\n",
    "        try:\n",
    "            start = time.time()\n",
    "            X_final, labels_final,w,b = MPCPolytopeOpt(data.to_numpy(), k, metric = 'silhouette', \n",
    "                                                           card = 1, M = 1, verbose=True)\n",
    "            end_time = time.time() - start\n",
    "            print('Silhouette: ', silhouette_score(X_final, labels_final))\n",
    "        except:\n",
    "            print('Whoops!', k)\n",
    "        results.append({'data': dataset,\n",
    "                            'algo': 'MPC-1',\n",
    "                            'k': k,\n",
    "                            'silhouette': silhouette_score(X_final, labels_final),\n",
    "                            'time': end_time,\n",
    "                           })\n",
    "\n",
    "        try:\n",
    "            start = time.time()\n",
    "            X_final, labels_final,w,b = MPCPolytopeOpt(data.to_numpy(), k, metric = 'silhouette', \n",
    "                                                           card = 3, M = 2, verbose=True)\n",
    "            end_time = time.time() - start\n",
    "            print('Silhouette: ', silhouette_score(X_final, labels_final))\n",
    "        except:\n",
    "            print('Whoops!', k)\n",
    "        results.append({'data': dataset,\n",
    "                            'algo': 'MPC-2',\n",
    "                            'k': k,\n",
    "                            'silhouette': silhouette_score(X_final, labels_final),\n",
    "                            'time': end_time,\n",
    "                           })\n",
    "\n",
    "results_df = pd.DataFrame.from_records(results).fillna(-1)\n",
    "results_df.to_csv('mpc_uci.csv')"
   ]
  },
  {
   "cell_type": "markdown",
   "metadata": {},
   "source": [
    "### Display Best Results"
   ]
  },
  {
   "cell_type": "code",
   "execution_count": null,
   "metadata": {},
   "outputs": [],
   "source": [
    "results_df.sort_values('silhouette',ascending=False).groupby(['data']).head(1)"
   ]
  }
 ],
 "metadata": {
  "kernelspec": {
   "display_name": "Python 3",
   "language": "python",
   "name": "python3"
  },
  "language_info": {
   "codemirror_mode": {
    "name": "ipython",
    "version": 3
   },
   "file_extension": ".py",
   "mimetype": "text/x-python",
   "name": "python",
   "nbconvert_exporter": "python",
   "pygments_lexer": "ipython3",
   "version": "3.9.1"
  }
 },
 "nbformat": 4,
 "nbformat_minor": 5
}
