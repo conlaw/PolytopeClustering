{
 "cells": [
  {
   "cell_type": "markdown",
   "metadata": {},
   "source": [
    "## Sample MPC Notebook\n",
    "\n",
    "This notebook runs a sample use of the mpc algorithm using iris data. The functionality captured in this notebook is implemented in the following files:\n",
    "\n",
    "- `mpc.py`: Contains main function for doing MultiPolytope Clustering\n",
    "- `mpc_helpers.py`: Helper functions to support mpc function\n",
    "- `mpc_init.py`: Code to run initialization scheme (alternating minimization)\n",
    "- `cluster_assignment.py`: Code to perform clustering sub-routine of initialization scheme\n",
    "- `pairwise_integer_cut.py`: Code to perform separating hyperplane sub-routing of initialization scheme"
   ]
  },
  {
   "cell_type": "markdown",
   "metadata": {},
   "source": [
    "### Code Demonstration\n",
    "\n",
    "We'll start by importing the main function from `mpc.py`."
   ]
  },
  {
   "cell_type": "code",
   "execution_count": 2,
   "metadata": {},
   "outputs": [],
   "source": [
    "from mpc import *\n",
    "import pandas as pd"
   ]
  },
  {
   "cell_type": "code",
   "execution_count": 3,
   "metadata": {},
   "outputs": [
    {
     "data": {
      "text/html": [
       "<div>\n",
       "<style scoped>\n",
       "    .dataframe tbody tr th:only-of-type {\n",
       "        vertical-align: middle;\n",
       "    }\n",
       "\n",
       "    .dataframe tbody tr th {\n",
       "        vertical-align: top;\n",
       "    }\n",
       "\n",
       "    .dataframe thead th {\n",
       "        text-align: right;\n",
       "    }\n",
       "</style>\n",
       "<table border=\"1\" class=\"dataframe\">\n",
       "  <thead>\n",
       "    <tr style=\"text-align: right;\">\n",
       "      <th></th>\n",
       "      <th>0</th>\n",
       "      <th>1</th>\n",
       "      <th>2</th>\n",
       "      <th>3</th>\n",
       "    </tr>\n",
       "  </thead>\n",
       "  <tbody>\n",
       "    <tr>\n",
       "      <th>count</th>\n",
       "      <td>150.000000</td>\n",
       "      <td>150.000000</td>\n",
       "      <td>150.000000</td>\n",
       "      <td>150.000000</td>\n",
       "    </tr>\n",
       "    <tr>\n",
       "      <th>mean</th>\n",
       "      <td>0.428704</td>\n",
       "      <td>0.439167</td>\n",
       "      <td>0.467571</td>\n",
       "      <td>0.457778</td>\n",
       "    </tr>\n",
       "    <tr>\n",
       "      <th>std</th>\n",
       "      <td>0.230018</td>\n",
       "      <td>0.180664</td>\n",
       "      <td>0.299054</td>\n",
       "      <td>0.317984</td>\n",
       "    </tr>\n",
       "    <tr>\n",
       "      <th>min</th>\n",
       "      <td>0.000000</td>\n",
       "      <td>0.000000</td>\n",
       "      <td>0.000000</td>\n",
       "      <td>0.000000</td>\n",
       "    </tr>\n",
       "    <tr>\n",
       "      <th>25%</th>\n",
       "      <td>0.222222</td>\n",
       "      <td>0.333333</td>\n",
       "      <td>0.101695</td>\n",
       "      <td>0.083333</td>\n",
       "    </tr>\n",
       "    <tr>\n",
       "      <th>50%</th>\n",
       "      <td>0.416667</td>\n",
       "      <td>0.416667</td>\n",
       "      <td>0.567797</td>\n",
       "      <td>0.500000</td>\n",
       "    </tr>\n",
       "    <tr>\n",
       "      <th>75%</th>\n",
       "      <td>0.583333</td>\n",
       "      <td>0.541667</td>\n",
       "      <td>0.694915</td>\n",
       "      <td>0.708333</td>\n",
       "    </tr>\n",
       "    <tr>\n",
       "      <th>max</th>\n",
       "      <td>1.000000</td>\n",
       "      <td>1.000000</td>\n",
       "      <td>1.000000</td>\n",
       "      <td>1.000000</td>\n",
       "    </tr>\n",
       "  </tbody>\n",
       "</table>\n",
       "</div>"
      ],
      "text/plain": [
       "                0           1           2           3\n",
       "count  150.000000  150.000000  150.000000  150.000000\n",
       "mean     0.428704    0.439167    0.467571    0.457778\n",
       "std      0.230018    0.180664    0.299054    0.317984\n",
       "min      0.000000    0.000000    0.000000    0.000000\n",
       "25%      0.222222    0.333333    0.101695    0.083333\n",
       "50%      0.416667    0.416667    0.567797    0.500000\n",
       "75%      0.583333    0.541667    0.694915    0.708333\n",
       "max      1.000000    1.000000    1.000000    1.000000"
      ]
     },
     "execution_count": 3,
     "metadata": {},
     "output_type": "execute_result"
    }
   ],
   "source": [
    "#Read in date ('uci_clean' contains normalized code so we don't need to run minmax scaling)\n",
    "data = pd.read_csv('uci_clean/iris.csv')\n",
    "\n",
    "#Note the data has 4 features and is normalized between 0 and 1\n",
    "data.describe()"
   ]
  },
  {
   "cell_type": "markdown",
   "metadata": {},
   "source": [
    "### Run MPC\n",
    "\n",
    "To perform clustering we just need to run the MPCPolytopeOpt function. It takes the following as input:\n",
    "\n",
    "- data: data (row samples, column features) in numpy format\n",
    "- k: number of clusters for initialization schem\n",
    "- metric: Clustering metric to optimize\n",
    "- card: Number of non-zero coefficients in separating hyperplanes\n",
    "- M: Maximum integer value for separating hyperplanes\n",
    "- max_k: Maximum number of clusters that we can generate during local search\n",
    "- verbose: whether to print intermediary updates\n",
    "\n",
    "The output is a set of ordered data (rearranged data), the cluster labels, and the separating hyperplanes"
   ]
  },
  {
   "cell_type": "code",
   "execution_count": 4,
   "metadata": {
    "scrolled": true
   },
   "outputs": [
    {
     "name": "stdout",
     "output_type": "stream",
     "text": [
      "Starting sil (unfiltered):  0.3828936107757873\n",
      "Filtered points:  1\n",
      "Starting sil (filtered):  0.3723508872545404\n",
      "New perf:  0.3886936058106495\n",
      "New perf:  0.3916194856119582\n",
      "New perf:  0.42810005005290064\n",
      "New perf:  0.43524633748330815\n",
      "New perf:  0.43639426387667335\n",
      "New perf:  0.45476875579708675\n",
      "New perf:  0.4771240519783585\n",
      "minor improvement\n",
      "Last sil 0.4771240519783585\n",
      "Current sil 0.4771240519783585\n",
      "Silhouette:  0.47663104192059375\n"
     ]
    }
   ],
   "source": [
    "#This code clusters iris data into 2 clusters using silhouette\n",
    "X, labels, w, b = MPCPolytopeOpt(data.to_numpy(), 4, \n",
    "                                           metric = 'silhouette', \n",
    "                                           card = 1, \n",
    "                                           M = 1, \n",
    "                                           verbose=True)\n",
    "\n",
    "print('Silhouette: ', silhouette_score(X, labels))"
   ]
  }
 ],
 "metadata": {
  "kernelspec": {
   "display_name": "Python 3",
   "language": "python",
   "name": "python3"
  },
  "language_info": {
   "codemirror_mode": {
    "name": "ipython",
    "version": 3
   },
   "file_extension": ".py",
   "mimetype": "text/x-python",
   "name": "python",
   "nbconvert_exporter": "python",
   "pygments_lexer": "ipython3",
   "version": "3.9.1"
  }
 },
 "nbformat": 4,
 "nbformat_minor": 5
}
